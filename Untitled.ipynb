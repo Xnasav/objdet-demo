{
 "cells": [
  {
   "cell_type": "code",
   "execution_count": 2,
   "metadata": {},
   "outputs": [],
   "source": [
    "import tensorflow as tf\n",
    "\n",
    "def create_network():\n",
    "    input_layer = tf.placeholder(tf.float32, [None, 128, 128, 3])\n",
    "    conv1 = tf.layers.conv2d(inputs = input_layer, filters=32, kernel_size=[3,3])\n",
    "    flatten = tf.layers.flatten(inputs=conv1)\n",
    "    output_layer = tf.layers.dense(inputs=flatten, units=10)\n",
    "    return {'in': input_layer, 'out': output_layer}"
   ]
  },
  {
   "cell_type": "code",
   "execution_count": 4,
   "metadata": {},
   "outputs": [],
   "source": [
    "from tensorflow.python.client import device_lib\n",
    "\n",
    "def get_available_gpus():\n",
    "    local_device_protos = device_lib.list_local_devices()\n",
    "    return [x.name for x in local_device_protos if (x.device_type == 'GPU' or x.device_type == 'CPU')]\n",
    "    #return [x.name for x in local_device_protos if (x.device_type == 'GPU')]"
   ]
  },
  {
   "cell_type": "code",
   "execution_count": 10,
   "metadata": {},
   "outputs": [],
   "source": [
    "tf_dict = []\n",
    "for d in get_available_gpus():\n",
    "    tf_dict.append(create_network())"
   ]
  },
  {
   "cell_type": "code",
   "execution_count": 11,
   "metadata": {},
   "outputs": [
    {
     "name": "stdout",
     "output_type": "stream",
     "text": [
      "[{'in': <tf.Tensor 'Placeholder_4:0' shape=(?, 128, 128, 3) dtype=float32>, 'out': <tf.Tensor 'dense_4/BiasAdd:0' shape=(?, 10) dtype=float32>}, {'in': <tf.Tensor 'Placeholder_5:0' shape=(?, 128, 128, 3) dtype=float32>, 'out': <tf.Tensor 'dense_5/BiasAdd:0' shape=(?, 10) dtype=float32>}]\n"
     ]
    }
   ],
   "source": [
    "print(tf_dict)"
   ]
  },
  {
   "cell_type": "code",
   "execution_count": null,
   "metadata": {},
   "outputs": [],
   "source": []
  }
 ],
 "metadata": {
  "kernelspec": {
   "display_name": "Python 3",
   "language": "python",
   "name": "python3"
  },
  "language_info": {
   "codemirror_mode": {
    "name": "ipython",
    "version": 3
   },
   "file_extension": ".py",
   "mimetype": "text/x-python",
   "name": "python",
   "nbconvert_exporter": "python",
   "pygments_lexer": "ipython3",
   "version": "3.5.2"
  }
 },
 "nbformat": 4,
 "nbformat_minor": 2
}
